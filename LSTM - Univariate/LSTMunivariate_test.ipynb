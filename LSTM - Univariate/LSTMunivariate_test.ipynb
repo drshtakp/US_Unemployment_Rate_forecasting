{
  "nbformat": 4,
  "nbformat_minor": 0,
  "metadata": {
    "colab": {
      "provenance": []
    },
    "kernelspec": {
      "name": "python3",
      "display_name": "Python 3"
    },
    "language_info": {
      "name": "python"
    }
  },
  "cells": [
    {
      "cell_type": "code",
      "execution_count": 1,
      "metadata": {
        "colab": {
          "base_uri": "https://localhost:8080/"
        },
        "id": "-MLfMH1nkl_t",
        "outputId": "3e885e0e-0421-415b-c1d1-2f6b6f33823b"
      },
      "outputs": [
        {
          "output_type": "stream",
          "name": "stdout",
          "text": [
            "Mounted at /content/drive\n"
          ]
        }
      ],
      "source": [
        "from google.colab import drive\n",
        "drive.mount('/content/drive')"
      ]
    },
    {
      "cell_type": "code",
      "source": [
        "import os\n",
        "os.listdir()\n",
        "os.chdir(\"drive/MyDrive/Purdue-Second Year/Fall Semester/CS 50100\")"
      ],
      "metadata": {
        "id": "RC9gz3NsO59O"
      },
      "execution_count": 4,
      "outputs": []
    },
    {
      "cell_type": "code",
      "source": [
        "import torch\n",
        "import csv\n",
        "import numpy as np\n",
        "# from lstmunivariate_training import LSTMModel\n",
        "import lstmunivariate_training as lstm"
      ],
      "metadata": {
        "id": "-U1O97tPku7e"
      },
      "execution_count": 84,
      "outputs": []
    },
    {
      "cell_type": "code",
      "source": [
        "# Initialize the LSTM model\n",
        "input_size = 1\n",
        "hidden_size = 64\n",
        "num_layers = 1\n",
        "lstm_model = lstm.LSTMModel(input_size, hidden_size, num_layers) # Replace with model parameters\n",
        "\n",
        "# Load the saved model's state dictionary\n",
        "lstm_model.load_state_dict(torch.load('lstm_model.pth'))\n",
        "\n",
        "# Set model to evaluation mode\n",
        "lstm_model.eval()"
      ],
      "metadata": {
        "colab": {
          "base_uri": "https://localhost:8080/"
        },
        "id": "J252jRzhoPso",
        "outputId": "d76b2b69-3ff7-4cd2-d1d8-17d8b2dcb900"
      },
      "execution_count": 85,
      "outputs": [
        {
          "output_type": "execute_result",
          "data": {
            "text/plain": [
              "LSTMModel(\n",
              "  (lstm): LSTM(1, 64, batch_first=True)\n",
              "  (fc): Linear(in_features=64, out_features=1, bias=True)\n",
              ")"
            ]
          },
          "metadata": {},
          "execution_count": 85
        }
      ]
    },
    {
      "cell_type": "code",
      "source": [
        "# Evaluate with 2021 Data\n",
        "unrate = [] # Initialize list for univariate unemployment rate\n",
        "eval_dict = {} # Initialize a dictionary for evaluation\n",
        "actual_values = {} # Dictionary for storing actual 2021 values\n",
        "# Open the .csv and extract unemployment data\n",
        "with open ('macro_monthly_clean.csv', newline = '') as c:\n",
        "  reader = csv.DictReader(c)\n",
        "  # Since we will be predicting data based on the previous year's (same month), sort data into a dictionary based on months\n",
        "  for row in reader:\n",
        "    date_ls = row['DATE'].split('-')\n",
        "    year_interest = int(date_ls[0])\n",
        "    if (year_interest >= 2012 and year_interest != 2021): # Include only entries from 2012 for test\n",
        "      if date_ls[1] not in eval_dict.keys():\n",
        "        eval_dict[date_ls[1]] = []\n",
        "      eval_dict[date_ls[1]].append(float(row['unrate']))\n",
        "    elif year_interest == 2021:\n",
        "      if date_ls[1] not in actual_values.keys():\n",
        "        actual_values[date_ls[1]] = float(row['unrate'])\n",
        "months = eval_dict.keys()\n",
        "if len(months) != len(actual_values.values()):\n",
        "  print('Months do not match up with prediction values within actual values')\n",
        "  print('Months: ' + str(len(months)))\n",
        "  print('Actual values for test: ' + str(len(actual_values.values())))\n"
      ],
      "metadata": {
        "colab": {
          "base_uri": "https://localhost:8080/"
        },
        "id": "zhTRfUUPo0v0",
        "outputId": "6c0971d5-149e-42b7-dd94-c7917f23c09d"
      },
      "execution_count": 86,
      "outputs": [
        {
          "output_type": "stream",
          "name": "stdout",
          "text": [
            "Months do not match up with prediction values within actual values\n",
            "Months: 12\n",
            "Actual values for test: 10\n"
          ]
        }
      ]
    },
    {
      "cell_type": "code",
      "source": [
        "# Initialize list for predictions\n",
        "predictions_ls = []\n",
        "rmse_avg = []  # Initialize list for root mean square average\n",
        "mae_avg = []   # Initialize list for mean absolute error average\n",
        "mape_avg = []  # Initialize list for mean absolute percentage error average\n",
        "\n",
        "# Make predictions using the loaded model\n",
        "with torch.no_grad():  # Disable gradient tracking for inference\n",
        "    for key in eval_dict.keys():\n",
        "        # Since we do not have months November & December in 2021, remove their predictions\n",
        "        if key != '11' and key != '12':\n",
        "            # Convert input data for 2021 to a PyTorch tensor (similar to what you did for training data)\n",
        "            input_data_tensor = torch.tensor(eval_dict[key], dtype=torch.float32)\n",
        "            # Reshape the input data to match the expected format (batch_size, sequence_length, input_size)\n",
        "            input_data_tensor = input_data_tensor.view(1, -1, 1)  # Reshape to (1, sequence_length, 1)\n",
        "\n",
        "            predictions = lstm_model(input_data_tensor).tolist()[0]  # predictions here is still a list\n",
        "            # print(f'Prediction for unemployment rate month {key}: {predictions}')\n",
        "            predictions_ls.append(predictions[0])\n",
        "\n",
        "            # Calculate Root mean squared error\n",
        "            mse = np.mean((predictions[0] - actual_values[key]) ** 2)\n",
        "            rmse = np.sqrt(mse)\n",
        "            rmse_avg.append(rmse)\n",
        "\n",
        "            # Calculate Mean Absolute Error\n",
        "            mae = np.mean(np.abs(predictions[0] - actual_values[key]))\n",
        "            mae_avg.append(mae)\n",
        "\n",
        "            # Calculate Mean Absolute Percentage Error\n",
        "            mape = np.mean(np.abs((predictions[0] - actual_values[key]) / actual_values[key])) * 100\n",
        "            mape_avg.append(mape)\n",
        "\n",
        "# Calculate average mean squared error\n",
        "average_rmse = sum(rmse_avg) / len(rmse_avg)\n",
        "average_mae = sum(mae_avg) / len(mae_avg)\n",
        "average_mape = sum(mape_avg) / len(mape_avg)\n",
        "\n",
        "print(f\"Average Root Mean Square Error for prediction: {average_rmse:.2f}\")\n",
        "print(f\"Average Mean Absolute Error for prediction: {average_mae:.2f}\")\n",
        "print(f\"Average Mean Absolute Percentage Error for prediction: {average_mape:.2f}%\")\n"
      ],
      "metadata": {
        "colab": {
          "base_uri": "https://localhost:8080/"
        },
        "id": "W45q49S8UuGw",
        "outputId": "95dc3486-e8d7-4cf3-d77f-743e3e662d14"
      },
      "execution_count": 87,
      "outputs": [
        {
          "output_type": "stream",
          "name": "stdout",
          "text": [
            "Average Root Mean Square Error for prediction: 0.60\n",
            "Average Mean Absolute Error for prediction: 0.60\n",
            "Average Mean Absolute Percentage Error for prediction: 11.74%\n"
          ]
        }
      ]
    }
  ]
}